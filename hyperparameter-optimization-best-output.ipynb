{
 "cells": [
  {
   "cell_type": "markdown",
   "id": "b01ff927",
   "metadata": {
    "id": "ExUK_c25wNgT",
    "papermill": {
     "duration": 0.002942,
     "end_time": "2024-03-02T20:15:35.964537",
     "exception": false,
     "start_time": "2024-03-02T20:15:35.961595",
     "status": "completed"
    },
    "tags": []
   },
   "source": [
    "Particle Swarm Optimization and Optuna (Hyperparameter tool)"
   ]
  },
  {
   "cell_type": "code",
   "execution_count": 1,
   "id": "6627d7fb",
   "metadata": {
    "execution": {
     "iopub.execute_input": "2024-03-02T20:15:35.971364Z",
     "iopub.status.busy": "2024-03-02T20:15:35.970781Z",
     "iopub.status.idle": "2024-03-02T20:16:06.606618Z",
     "shell.execute_reply": "2024-03-02T20:16:06.605364Z"
    },
    "id": "WWToSpOywJQa",
    "outputId": "e87680ea-3aa5-41ab-f9ef-8f85d283202c",
    "papermill": {
     "duration": 30.641959,
     "end_time": "2024-03-02T20:16:06.608946",
     "exception": false,
     "start_time": "2024-03-02T20:15:35.966987",
     "status": "completed"
    },
    "tags": []
   },
   "outputs": [
    {
     "name": "stdout",
     "output_type": "stream",
     "text": [
      "Requirement already satisfied: optuna in /opt/conda/lib/python3.10/site-packages (3.5.0)\r\n",
      "Requirement already satisfied: alembic>=1.5.0 in /opt/conda/lib/python3.10/site-packages (from optuna) (1.13.1)\r\n",
      "Requirement already satisfied: colorlog in /opt/conda/lib/python3.10/site-packages (from optuna) (6.8.2)\r\n",
      "Requirement already satisfied: numpy in /opt/conda/lib/python3.10/site-packages (from optuna) (1.26.4)\r\n",
      "Requirement already satisfied: packaging>=20.0 in /opt/conda/lib/python3.10/site-packages (from optuna) (21.3)\r\n",
      "Requirement already satisfied: sqlalchemy>=1.3.0 in /opt/conda/lib/python3.10/site-packages (from optuna) (2.0.25)\r\n",
      "Requirement already satisfied: tqdm in /opt/conda/lib/python3.10/site-packages (from optuna) (4.66.1)\r\n",
      "Requirement already satisfied: PyYAML in /opt/conda/lib/python3.10/site-packages (from optuna) (6.0.1)\r\n",
      "Requirement already satisfied: Mako in /opt/conda/lib/python3.10/site-packages (from alembic>=1.5.0->optuna) (1.3.2)\r\n",
      "Requirement already satisfied: typing-extensions>=4 in /opt/conda/lib/python3.10/site-packages (from alembic>=1.5.0->optuna) (4.9.0)\r\n",
      "Requirement already satisfied: pyparsing!=3.0.5,>=2.0.2 in /opt/conda/lib/python3.10/site-packages (from packaging>=20.0->optuna) (3.1.1)\r\n",
      "Requirement already satisfied: greenlet!=0.4.17 in /opt/conda/lib/python3.10/site-packages (from sqlalchemy>=1.3.0->optuna) (3.0.3)\r\n",
      "Requirement already satisfied: MarkupSafe>=0.9.2 in /opt/conda/lib/python3.10/site-packages (from Mako->alembic>=1.5.0->optuna) (2.1.3)\r\n"
     ]
    }
   ],
   "source": [
    "!pip install optuna"
   ]
  },
  {
   "cell_type": "code",
   "execution_count": 2,
   "id": "14c23c5e",
   "metadata": {
    "execution": {
     "iopub.execute_input": "2024-03-02T20:16:06.615700Z",
     "iopub.status.busy": "2024-03-02T20:16:06.615414Z",
     "iopub.status.idle": "2024-03-02T20:16:20.910038Z",
     "shell.execute_reply": "2024-03-02T20:16:20.909022Z"
    },
    "id": "Y3r7fxVhwZEo",
    "papermill": {
     "duration": 14.300506,
     "end_time": "2024-03-02T20:16:20.912266",
     "exception": false,
     "start_time": "2024-03-02T20:16:06.611760",
     "status": "completed"
    },
    "tags": []
   },
   "outputs": [
    {
     "name": "stderr",
     "output_type": "stream",
     "text": [
      "2024-03-02 20:16:09.601839: E external/local_xla/xla/stream_executor/cuda/cuda_dnn.cc:9261] Unable to register cuDNN factory: Attempting to register factory for plugin cuDNN when one has already been registered\n",
      "2024-03-02 20:16:09.601945: E external/local_xla/xla/stream_executor/cuda/cuda_fft.cc:607] Unable to register cuFFT factory: Attempting to register factory for plugin cuFFT when one has already been registered\n",
      "2024-03-02 20:16:09.750147: E external/local_xla/xla/stream_executor/cuda/cuda_blas.cc:1515] Unable to register cuBLAS factory: Attempting to register factory for plugin cuBLAS when one has already been registered\n"
     ]
    }
   ],
   "source": [
    "import optuna\n",
    "import numpy as np\n",
    "import tensorflow as tf\n",
    "from tensorflow.keras.layers import Dense, Input\n",
    "from tensorflow.keras.models import Model\n",
    "from sklearn.model_selection import train_test_split\n",
    "\n",
    "# Veri örneği (verinizi kendi gerçek verinizle değiştirin)\n",
    "input_data = np.random.rand(1000, 10)\n",
    "labels = np.random.randint(3, size=(1000,))\n",
    "\n",
    "# Veriyi eğitim ve test kümelerine ayırın\n",
    "train_data, test_data, train_labels, test_labels = train_test_split(input_data, labels, test_size=0.2, random_state=42)\n"
   ]
  },
  {
   "cell_type": "code",
   "execution_count": 3,
   "id": "d905e9be",
   "metadata": {
    "execution": {
     "iopub.execute_input": "2024-03-02T20:16:20.919684Z",
     "iopub.status.busy": "2024-03-02T20:16:20.919082Z",
     "iopub.status.idle": "2024-03-02T20:30:33.843925Z",
     "shell.execute_reply": "2024-03-02T20:30:33.842746Z"
    },
    "id": "SXthhaQWwhfq",
    "outputId": "d09081c0-7521-47db-bd73-4d2fd294cab2",
    "papermill": {
     "duration": 852.933282,
     "end_time": "2024-03-02T20:30:33.848533",
     "exception": false,
     "start_time": "2024-03-02T20:16:20.915251",
     "status": "completed"
    },
    "tags": []
   },
   "outputs": [
    {
     "name": "stderr",
     "output_type": "stream",
     "text": [
      "[I 2024-03-02 20:16:20,925] A new study created in memory with name: no-name-ed4c93ef-b53a-4014-afa2-860100af1538\n",
      "[I 2024-03-02 20:17:56,844] Trial 0 finished with value: -0.3100000023841858 and parameters: {'num_layers': 32, 'num_units': 111, 'epochs': 561}. Best is trial 0 with value: -0.3100000023841858.\n",
      "[I 2024-03-02 20:20:16,023] Trial 1 finished with value: -0.3100000023841858 and parameters: {'num_layers': 19, 'num_units': 151, 'epochs': 968}. Best is trial 0 with value: -0.3100000023841858.\n",
      "[I 2024-03-02 20:21:25,716] Trial 2 finished with value: -0.3100000023841858 and parameters: {'num_layers': 25, 'num_units': 164, 'epochs': 243}. Best is trial 0 with value: -0.3100000023841858.\n",
      "[I 2024-03-02 20:23:02,836] Trial 3 finished with value: -0.33500000834465027 and parameters: {'num_layers': 10, 'num_units': 174, 'epochs': 775}. Best is trial 3 with value: -0.33500000834465027.\n",
      "[I 2024-03-02 20:23:07,518] Trial 4 finished with value: -0.3400000035762787 and parameters: {'num_layers': 3, 'num_units': 69, 'epochs': 71}. Best is trial 4 with value: -0.3400000035762787.\n",
      "[I 2024-03-02 20:24:10,078] Trial 5 finished with value: -0.3100000023841858 and parameters: {'num_layers': 20, 'num_units': 106, 'epochs': 470}. Best is trial 4 with value: -0.3400000035762787.\n",
      "[I 2024-03-02 20:25:13,691] Trial 6 finished with value: -0.3100000023841858 and parameters: {'num_layers': 19, 'num_units': 51, 'epochs': 531}. Best is trial 4 with value: -0.3400000035762787.\n",
      "[I 2024-03-02 20:26:52,451] Trial 7 finished with value: -0.3100000023841858 and parameters: {'num_layers': 27, 'num_units': 254, 'epochs': 169}. Best is trial 4 with value: -0.3400000035762787.\n",
      "[I 2024-03-02 20:27:42,975] Trial 8 finished with value: -0.3199999928474426 and parameters: {'num_layers': 2, 'num_units': 236, 'epochs': 700}. Best is trial 4 with value: -0.3400000035762787.\n",
      "[I 2024-03-02 20:30:33,839] Trial 9 finished with value: -0.3100000023841858 and parameters: {'num_layers': 14, 'num_units': 223, 'epochs': 599}. Best is trial 4 with value: -0.3400000035762787.\n"
     ]
    }
   ],
   "source": [
    "# Model ağı seçilip geliştirilebilir.\n",
    "def create_model(trial)->Model:\n",
    "    # Optimize edilecek hiperparametreleri belirle\n",
    "    # Random olarak, belirlenmektedir.\n",
    "    num_layers = trial.suggest_int('num_layers', 1, 32)\n",
    "    num_units = trial.suggest_int('num_units', 32, 256)\n",
    "\n",
    "    # Modeli oluştur\n",
    "    # Random atanan verilerden, 10 girişli bir model belirle\n",
    "    model_input = Input(shape=(10,))\n",
    "    x = model_input\n",
    "    for _ in range(num_layers):\n",
    "        x = Dense(num_units, activation='relu')(x)\n",
    "    model_output = Dense(3, activation='softmax')(x)\n",
    "\n",
    "    model:Model = Model(inputs=model_input, outputs=model_output)\n",
    "    model.compile(optimizer='adam', loss='sparse_categorical_crossentropy', metrics=['accuracy'])\n",
    "\n",
    "    return model\n",
    "\n",
    "# Farklı Optimizasyon modelleri oluşturulup seçilebilir,\n",
    "def objective(trial)->float:\n",
    "    # Modeli oluştur\n",
    "    model:Model = create_model(trial)\n",
    "\n",
    "    # Model üzerinde epochs değeerinin belirlenmesinde öncü ol\n",
    "    epochs = trial.suggest_int('epochs', 1, 1000)\n",
    "\n",
    "    # Modeli eğit\n",
    "    model.fit(train_data, train_labels, epochs=epochs, verbose=0)\n",
    "\n",
    "    # Modelin test kümesindeki başarımını değerlendir\n",
    "    _, accuracy = model.evaluate(test_data, test_labels, verbose=0)\n",
    "\n",
    "    return -accuracy  # Negatif çünkü Optuna en küçük değeri arar\n",
    "\n",
    "# Optuna optimizasyonu\n",
    "study = optuna.create_study(direction='minimize')\n",
    "study.optimize(objective, n_trials=10)\n"
   ]
  },
  {
   "cell_type": "code",
   "execution_count": 4,
   "id": "74130cda",
   "metadata": {
    "execution": {
     "iopub.execute_input": "2024-03-02T20:30:33.856907Z",
     "iopub.status.busy": "2024-03-02T20:30:33.856516Z",
     "iopub.status.idle": "2024-03-02T20:30:35.209297Z",
     "shell.execute_reply": "2024-03-02T20:30:35.208059Z"
    },
    "id": "qiivA1SU0SPO",
    "outputId": "60c76318-3ae0-45e7-dfcc-1bc36b693ebd",
    "papermill": {
     "duration": 1.359791,
     "end_time": "2024-03-02T20:30:35.211591",
     "exception": false,
     "start_time": "2024-03-02T20:30:33.851800",
     "status": "completed"
    },
    "tags": []
   },
   "outputs": [
    {
     "name": "stdout",
     "output_type": "stream",
     "text": [
      "En iyi hiperparametreler: {'num_layers': 3, 'num_units': 69, 'epochs': 71}\n",
      "En iyi başarı: 0.3400000035762787\n",
      "Epoch 1/5\n",
      "\u001b[1m25/25\u001b[0m \u001b[32m━━━━━━━━━━━━━━━━━━━━\u001b[0m\u001b[37m\u001b[0m \u001b[1m1s\u001b[0m 1ms/step - accuracy: 0.3669 - loss: 1.1008   \n",
      "Epoch 2/5\n",
      "\u001b[1m25/25\u001b[0m \u001b[32m━━━━━━━━━━━━━━━━━━━━\u001b[0m\u001b[37m\u001b[0m \u001b[1m0s\u001b[0m 1ms/step - accuracy: 0.3458 - loss: 1.0974 \n",
      "Epoch 3/5\n",
      "\u001b[1m25/25\u001b[0m \u001b[32m━━━━━━━━━━━━━━━━━━━━\u001b[0m\u001b[37m\u001b[0m \u001b[1m0s\u001b[0m 1ms/step - accuracy: 0.4016 - loss: 1.0912 \n",
      "Epoch 4/5\n",
      "\u001b[1m25/25\u001b[0m \u001b[32m━━━━━━━━━━━━━━━━━━━━\u001b[0m\u001b[37m\u001b[0m \u001b[1m0s\u001b[0m 1ms/step - accuracy: 0.4061 - loss: 1.0827 \n",
      "Epoch 5/5\n",
      "\u001b[1m25/25\u001b[0m \u001b[32m━━━━━━━━━━━━━━━━━━━━\u001b[0m\u001b[37m\u001b[0m \u001b[1m0s\u001b[0m 2ms/step - accuracy: 0.3894 - loss: 1.0878 \n",
      "Final Model Accuracy: 0.32499998807907104\n"
     ]
    }
   ],
   "source": [
    "# En iyi hiperparametreleri ve başarıyı görüntüle\n",
    "best_params = study.best_params\n",
    "best_accuracy = -study.best_value\n",
    "print('En iyi hiperparametreler:', best_params)\n",
    "print('En iyi başarı:', best_accuracy)\n",
    "\n",
    "# En iyi modeli oluştur\n",
    "best_model = create_model(study.best_trial)\n",
    "\n",
    "# En iyi modeli eğit\n",
    "best_model.fit(train_data, train_labels, epochs=5, verbose=1)\n",
    "\n",
    "# En iyi modele ait veriler, pickle ile kayıt edilebilir.\n",
    "# ****\n",
    "\n",
    "\n",
    "# En iyi modelin başarımını kontrol et\n",
    "final_accuracy = best_model.evaluate(test_data, test_labels, verbose=0)[1]\n",
    "print(f'Final Model Accuracy: {final_accuracy}')"
   ]
  },
  {
   "cell_type": "markdown",
   "id": "248ccaa0",
   "metadata": {
    "id": "accNd4nDz63p",
    "papermill": {
     "duration": 0.004122,
     "end_time": "2024-03-02T20:30:35.220366",
     "exception": false,
     "start_time": "2024-03-02T20:30:35.216244",
     "status": "completed"
    },
    "tags": []
   },
   "source": [
    "pickle ile parametreleri kayıt edelim."
   ]
  },
  {
   "cell_type": "code",
   "execution_count": 5,
   "id": "e67f1b6f",
   "metadata": {
    "execution": {
     "iopub.execute_input": "2024-03-02T20:30:35.230780Z",
     "iopub.status.busy": "2024-03-02T20:30:35.230421Z",
     "iopub.status.idle": "2024-03-02T20:30:35.234826Z",
     "shell.execute_reply": "2024-03-02T20:30:35.234228Z"
    },
    "id": "OkkhCA4uw_pU",
    "papermill": {
     "duration": 0.011547,
     "end_time": "2024-03-02T20:30:35.236434",
     "exception": false,
     "start_time": "2024-03-02T20:30:35.224887",
     "status": "completed"
    },
    "tags": []
   },
   "outputs": [],
   "source": [
    "import pickle\n",
    "pickle.dump(best_params, open( \"save.p\", \"wb\" ))\n"
   ]
  },
  {
   "cell_type": "code",
   "execution_count": 6,
   "id": "328e3444",
   "metadata": {
    "execution": {
     "iopub.execute_input": "2024-03-02T20:30:35.246943Z",
     "iopub.status.busy": "2024-03-02T20:30:35.246146Z",
     "iopub.status.idle": "2024-03-02T20:30:40.241009Z",
     "shell.execute_reply": "2024-03-02T20:30:40.239704Z"
    },
    "id": "mqnjHglYwqjV",
    "outputId": "8f91693f-999b-48ad-fdcd-28f4cf042c84",
    "papermill": {
     "duration": 5.001947,
     "end_time": "2024-03-02T20:30:40.242830",
     "exception": false,
     "start_time": "2024-03-02T20:30:35.240883",
     "status": "completed"
    },
    "tags": []
   },
   "outputs": [
    {
     "name": "stdout",
     "output_type": "stream",
     "text": [
      "Epoch 1/71\n",
      "\u001b[1m25/25\u001b[0m \u001b[32m━━━━━━━━━━━━━━━━━━━━\u001b[0m\u001b[37m\u001b[0m \u001b[1m1s\u001b[0m 2ms/step - accuracy: 0.3544 - loss: 1.1032   \n",
      "Epoch 2/71\n",
      "\u001b[1m25/25\u001b[0m \u001b[32m━━━━━━━━━━━━━━━━━━━━\u001b[0m\u001b[37m\u001b[0m \u001b[1m0s\u001b[0m 1ms/step - accuracy: 0.3952 - loss: 1.0933 \n",
      "Epoch 3/71\n",
      "\u001b[1m25/25\u001b[0m \u001b[32m━━━━━━━━━━━━━━━━━━━━\u001b[0m\u001b[37m\u001b[0m \u001b[1m0s\u001b[0m 1ms/step - accuracy: 0.3716 - loss: 1.0918 \n",
      "Epoch 4/71\n",
      "\u001b[1m25/25\u001b[0m \u001b[32m━━━━━━━━━━━━━━━━━━━━\u001b[0m\u001b[37m\u001b[0m \u001b[1m0s\u001b[0m 1ms/step - accuracy: 0.3698 - loss: 1.0900 \n",
      "Epoch 5/71\n",
      "\u001b[1m25/25\u001b[0m \u001b[32m━━━━━━━━━━━━━━━━━━━━\u001b[0m\u001b[37m\u001b[0m \u001b[1m0s\u001b[0m 1ms/step - accuracy: 0.4091 - loss: 1.0819 \n",
      "Epoch 6/71\n",
      "\u001b[1m25/25\u001b[0m \u001b[32m━━━━━━━━━━━━━━━━━━━━\u001b[0m\u001b[37m\u001b[0m \u001b[1m0s\u001b[0m 1ms/step - accuracy: 0.4613 - loss: 1.0706 \n",
      "Epoch 7/71\n",
      "\u001b[1m25/25\u001b[0m \u001b[32m━━━━━━━━━━━━━━━━━━━━\u001b[0m\u001b[37m\u001b[0m \u001b[1m0s\u001b[0m 1ms/step - accuracy: 0.3924 - loss: 1.0792 \n",
      "Epoch 8/71\n",
      "\u001b[1m25/25\u001b[0m \u001b[32m━━━━━━━━━━━━━━━━━━━━\u001b[0m\u001b[37m\u001b[0m \u001b[1m0s\u001b[0m 1ms/step - accuracy: 0.4205 - loss: 1.0753 \n",
      "Epoch 9/71\n",
      "\u001b[1m25/25\u001b[0m \u001b[32m━━━━━━━━━━━━━━━━━━━━\u001b[0m\u001b[37m\u001b[0m \u001b[1m0s\u001b[0m 1ms/step - accuracy: 0.4333 - loss: 1.0683 \n",
      "Epoch 10/71\n",
      "\u001b[1m25/25\u001b[0m \u001b[32m━━━━━━━━━━━━━━━━━━━━\u001b[0m\u001b[37m\u001b[0m \u001b[1m0s\u001b[0m 1ms/step - accuracy: 0.4605 - loss: 1.0537 \n",
      "Epoch 11/71\n",
      "\u001b[1m25/25\u001b[0m \u001b[32m━━━━━━━━━━━━━━━━━━━━\u001b[0m\u001b[37m\u001b[0m \u001b[1m0s\u001b[0m 1ms/step - accuracy: 0.4682 - loss: 1.0516 \n",
      "Epoch 12/71\n",
      "\u001b[1m25/25\u001b[0m \u001b[32m━━━━━━━━━━━━━━━━━━━━\u001b[0m\u001b[37m\u001b[0m \u001b[1m0s\u001b[0m 1ms/step - accuracy: 0.4740 - loss: 1.0330 \n",
      "Epoch 13/71\n",
      "\u001b[1m25/25\u001b[0m \u001b[32m━━━━━━━━━━━━━━━━━━━━\u001b[0m\u001b[37m\u001b[0m \u001b[1m0s\u001b[0m 1ms/step - accuracy: 0.4608 - loss: 1.0472 \n",
      "Epoch 14/71\n",
      "\u001b[1m25/25\u001b[0m \u001b[32m━━━━━━━━━━━━━━━━━━━━\u001b[0m\u001b[37m\u001b[0m \u001b[1m0s\u001b[0m 2ms/step - accuracy: 0.4314 - loss: 1.0466 \n",
      "Epoch 15/71\n",
      "\u001b[1m25/25\u001b[0m \u001b[32m━━━━━━━━━━━━━━━━━━━━\u001b[0m\u001b[37m\u001b[0m \u001b[1m0s\u001b[0m 2ms/step - accuracy: 0.4879 - loss: 1.0339 \n",
      "Epoch 16/71\n",
      "\u001b[1m25/25\u001b[0m \u001b[32m━━━━━━━━━━━━━━━━━━━━\u001b[0m\u001b[37m\u001b[0m \u001b[1m0s\u001b[0m 1ms/step - accuracy: 0.5075 - loss: 1.0124 \n",
      "Epoch 17/71\n",
      "\u001b[1m25/25\u001b[0m \u001b[32m━━━━━━━━━━━━━━━━━━━━\u001b[0m\u001b[37m\u001b[0m \u001b[1m0s\u001b[0m 2ms/step - accuracy: 0.5041 - loss: 1.0086 \n",
      "Epoch 18/71\n",
      "\u001b[1m25/25\u001b[0m \u001b[32m━━━━━━━━━━━━━━━━━━━━\u001b[0m\u001b[37m\u001b[0m \u001b[1m0s\u001b[0m 1ms/step - accuracy: 0.4826 - loss: 1.0100 \n",
      "Epoch 19/71\n",
      "\u001b[1m25/25\u001b[0m \u001b[32m━━━━━━━━━━━━━━━━━━━━\u001b[0m\u001b[37m\u001b[0m \u001b[1m0s\u001b[0m 1ms/step - accuracy: 0.5399 - loss: 0.9860 \n",
      "Epoch 20/71\n",
      "\u001b[1m25/25\u001b[0m \u001b[32m━━━━━━━━━━━━━━━━━━━━\u001b[0m\u001b[37m\u001b[0m \u001b[1m0s\u001b[0m 1ms/step - accuracy: 0.5180 - loss: 0.9950 \n",
      "Epoch 21/71\n",
      "\u001b[1m25/25\u001b[0m \u001b[32m━━━━━━━━━━━━━━━━━━━━\u001b[0m\u001b[37m\u001b[0m \u001b[1m0s\u001b[0m 1ms/step - accuracy: 0.5396 - loss: 0.9784 \n",
      "Epoch 22/71\n",
      "\u001b[1m25/25\u001b[0m \u001b[32m━━━━━━━━━━━━━━━━━━━━\u001b[0m\u001b[37m\u001b[0m \u001b[1m0s\u001b[0m 1ms/step - accuracy: 0.5431 - loss: 0.9877 \n",
      "Epoch 23/71\n",
      "\u001b[1m25/25\u001b[0m \u001b[32m━━━━━━━━━━━━━━━━━━━━\u001b[0m\u001b[37m\u001b[0m \u001b[1m0s\u001b[0m 1ms/step - accuracy: 0.5380 - loss: 0.9641 \n",
      "Epoch 24/71\n",
      "\u001b[1m25/25\u001b[0m \u001b[32m━━━━━━━━━━━━━━━━━━━━\u001b[0m\u001b[37m\u001b[0m \u001b[1m0s\u001b[0m 1ms/step - accuracy: 0.5693 - loss: 0.9412 \n",
      "Epoch 25/71\n",
      "\u001b[1m25/25\u001b[0m \u001b[32m━━━━━━━━━━━━━━━━━━━━\u001b[0m\u001b[37m\u001b[0m \u001b[1m0s\u001b[0m 1ms/step - accuracy: 0.5705 - loss: 0.9206 \n",
      "Epoch 26/71\n",
      "\u001b[1m25/25\u001b[0m \u001b[32m━━━━━━━━━━━━━━━━━━━━\u001b[0m\u001b[37m\u001b[0m \u001b[1m0s\u001b[0m 1ms/step - accuracy: 0.5739 - loss: 0.9318 \n",
      "Epoch 27/71\n",
      "\u001b[1m25/25\u001b[0m \u001b[32m━━━━━━━━━━━━━━━━━━━━\u001b[0m\u001b[37m\u001b[0m \u001b[1m0s\u001b[0m 1ms/step - accuracy: 0.5597 - loss: 0.9436 \n",
      "Epoch 28/71\n",
      "\u001b[1m25/25\u001b[0m \u001b[32m━━━━━━━━━━━━━━━━━━━━\u001b[0m\u001b[37m\u001b[0m \u001b[1m0s\u001b[0m 1ms/step - accuracy: 0.5729 - loss: 0.9050 \n",
      "Epoch 29/71\n",
      "\u001b[1m25/25\u001b[0m \u001b[32m━━━━━━━━━━━━━━━━━━━━\u001b[0m\u001b[37m\u001b[0m \u001b[1m0s\u001b[0m 1ms/step - accuracy: 0.5918 - loss: 0.9001 \n",
      "Epoch 30/71\n",
      "\u001b[1m25/25\u001b[0m \u001b[32m━━━━━━━━━━━━━━━━━━━━\u001b[0m\u001b[37m\u001b[0m \u001b[1m0s\u001b[0m 1ms/step - accuracy: 0.5991 - loss: 0.8979 \n",
      "Epoch 31/71\n",
      "\u001b[1m25/25\u001b[0m \u001b[32m━━━━━━━━━━━━━━━━━━━━\u001b[0m\u001b[37m\u001b[0m \u001b[1m0s\u001b[0m 1ms/step - accuracy: 0.5949 - loss: 0.8778 \n",
      "Epoch 32/71\n",
      "\u001b[1m25/25\u001b[0m \u001b[32m━━━━━━━━━━━━━━━━━━━━\u001b[0m\u001b[37m\u001b[0m \u001b[1m0s\u001b[0m 1ms/step - accuracy: 0.6004 - loss: 0.8744 \n",
      "Epoch 33/71\n",
      "\u001b[1m25/25\u001b[0m \u001b[32m━━━━━━━━━━━━━━━━━━━━\u001b[0m\u001b[37m\u001b[0m \u001b[1m0s\u001b[0m 1ms/step - accuracy: 0.6263 - loss: 0.8518 \n",
      "Epoch 34/71\n",
      "\u001b[1m25/25\u001b[0m \u001b[32m━━━━━━━━━━━━━━━━━━━━\u001b[0m\u001b[37m\u001b[0m \u001b[1m0s\u001b[0m 1ms/step - accuracy: 0.6288 - loss: 0.8554 \n",
      "Epoch 35/71\n",
      "\u001b[1m25/25\u001b[0m \u001b[32m━━━━━━━━━━━━━━━━━━━━\u001b[0m\u001b[37m\u001b[0m \u001b[1m0s\u001b[0m 1ms/step - accuracy: 0.6324 - loss: 0.8262 \n",
      "Epoch 36/71\n",
      "\u001b[1m25/25\u001b[0m \u001b[32m━━━━━━━━━━━━━━━━━━━━\u001b[0m\u001b[37m\u001b[0m \u001b[1m0s\u001b[0m 1ms/step - accuracy: 0.6791 - loss: 0.8079 \n",
      "Epoch 37/71\n",
      "\u001b[1m25/25\u001b[0m \u001b[32m━━━━━━━━━━━━━━━━━━━━\u001b[0m\u001b[37m\u001b[0m \u001b[1m0s\u001b[0m 1ms/step - accuracy: 0.6604 - loss: 0.7942 \n",
      "Epoch 38/71\n",
      "\u001b[1m25/25\u001b[0m \u001b[32m━━━━━━━━━━━━━━━━━━━━\u001b[0m\u001b[37m\u001b[0m \u001b[1m0s\u001b[0m 1ms/step - accuracy: 0.6729 - loss: 0.7780 \n",
      "Epoch 39/71\n",
      "\u001b[1m25/25\u001b[0m \u001b[32m━━━━━━━━━━━━━━━━━━━━\u001b[0m\u001b[37m\u001b[0m \u001b[1m0s\u001b[0m 1ms/step - accuracy: 0.6788 - loss: 0.7795 \n",
      "Epoch 40/71\n",
      "\u001b[1m25/25\u001b[0m \u001b[32m━━━━━━━━━━━━━━━━━━━━\u001b[0m\u001b[37m\u001b[0m \u001b[1m0s\u001b[0m 1ms/step - accuracy: 0.6999 - loss: 0.7597 \n",
      "Epoch 41/71\n",
      "\u001b[1m25/25\u001b[0m \u001b[32m━━━━━━━━━━━━━━━━━━━━\u001b[0m\u001b[37m\u001b[0m \u001b[1m0s\u001b[0m 1ms/step - accuracy: 0.6865 - loss: 0.7701 \n",
      "Epoch 42/71\n",
      "\u001b[1m25/25\u001b[0m \u001b[32m━━━━━━━━━━━━━━━━━━━━\u001b[0m\u001b[37m\u001b[0m \u001b[1m0s\u001b[0m 1ms/step - accuracy: 0.7253 - loss: 0.7273 \n",
      "Epoch 43/71\n",
      "\u001b[1m25/25\u001b[0m \u001b[32m━━━━━━━━━━━━━━━━━━━━\u001b[0m\u001b[37m\u001b[0m \u001b[1m0s\u001b[0m 1ms/step - accuracy: 0.7194 - loss: 0.7168 \n",
      "Epoch 44/71\n",
      "\u001b[1m25/25\u001b[0m \u001b[32m━━━━━━━━━━━━━━━━━━━━\u001b[0m\u001b[37m\u001b[0m \u001b[1m0s\u001b[0m 1ms/step - accuracy: 0.6810 - loss: 0.7258 \n",
      "Epoch 45/71\n",
      "\u001b[1m25/25\u001b[0m \u001b[32m━━━━━━━━━━━━━━━━━━━━\u001b[0m\u001b[37m\u001b[0m \u001b[1m0s\u001b[0m 1ms/step - accuracy: 0.7082 - loss: 0.7160 \n",
      "Epoch 46/71\n",
      "\u001b[1m25/25\u001b[0m \u001b[32m━━━━━━━━━━━━━━━━━━━━\u001b[0m\u001b[37m\u001b[0m \u001b[1m0s\u001b[0m 1ms/step - accuracy: 0.7086 - loss: 0.7025 \n",
      "Epoch 47/71\n",
      "\u001b[1m25/25\u001b[0m \u001b[32m━━━━━━━━━━━━━━━━━━━━\u001b[0m\u001b[37m\u001b[0m \u001b[1m0s\u001b[0m 1ms/step - accuracy: 0.7273 - loss: 0.6811 \n",
      "Epoch 48/71\n",
      "\u001b[1m25/25\u001b[0m \u001b[32m━━━━━━━━━━━━━━━━━━━━\u001b[0m\u001b[37m\u001b[0m \u001b[1m0s\u001b[0m 1ms/step - accuracy: 0.7393 - loss: 0.6869 \n",
      "Epoch 49/71\n",
      "\u001b[1m25/25\u001b[0m \u001b[32m━━━━━━━━━━━━━━━━━━━━\u001b[0m\u001b[37m\u001b[0m \u001b[1m0s\u001b[0m 1ms/step - accuracy: 0.7158 - loss: 0.6933 \n",
      "Epoch 50/71\n",
      "\u001b[1m25/25\u001b[0m \u001b[32m━━━━━━━━━━━━━━━━━━━━\u001b[0m\u001b[37m\u001b[0m \u001b[1m0s\u001b[0m 1ms/step - accuracy: 0.7580 - loss: 0.6689 \n",
      "Epoch 51/71\n",
      "\u001b[1m25/25\u001b[0m \u001b[32m━━━━━━━━━━━━━━━━━━━━\u001b[0m\u001b[37m\u001b[0m \u001b[1m0s\u001b[0m 1ms/step - accuracy: 0.7432 - loss: 0.6598 \n",
      "Epoch 52/71\n",
      "\u001b[1m25/25\u001b[0m \u001b[32m━━━━━━━━━━━━━━━━━━━━\u001b[0m\u001b[37m\u001b[0m \u001b[1m0s\u001b[0m 1ms/step - accuracy: 0.7550 - loss: 0.6316 \n",
      "Epoch 53/71\n",
      "\u001b[1m25/25\u001b[0m \u001b[32m━━━━━━━━━━━━━━━━━━━━\u001b[0m\u001b[37m\u001b[0m \u001b[1m0s\u001b[0m 1ms/step - accuracy: 0.7545 - loss: 0.6182 \n",
      "Epoch 54/71\n",
      "\u001b[1m25/25\u001b[0m \u001b[32m━━━━━━━━━━━━━━━━━━━━\u001b[0m\u001b[37m\u001b[0m \u001b[1m0s\u001b[0m 1ms/step - accuracy: 0.7566 - loss: 0.6350 \n",
      "Epoch 55/71\n",
      "\u001b[1m25/25\u001b[0m \u001b[32m━━━━━━━━━━━━━━━━━━━━\u001b[0m\u001b[37m\u001b[0m \u001b[1m0s\u001b[0m 1ms/step - accuracy: 0.7842 - loss: 0.6040 \n",
      "Epoch 56/71\n",
      "\u001b[1m25/25\u001b[0m \u001b[32m━━━━━━━━━━━━━━━━━━━━\u001b[0m\u001b[37m\u001b[0m \u001b[1m0s\u001b[0m 1ms/step - accuracy: 0.7653 - loss: 0.5995 \n",
      "Epoch 57/71\n",
      "\u001b[1m25/25\u001b[0m \u001b[32m━━━━━━━━━━━━━━━━━━━━\u001b[0m\u001b[37m\u001b[0m \u001b[1m0s\u001b[0m 1ms/step - accuracy: 0.8069 - loss: 0.5555 \n",
      "Epoch 58/71\n",
      "\u001b[1m25/25\u001b[0m \u001b[32m━━━━━━━━━━━━━━━━━━━━\u001b[0m\u001b[37m\u001b[0m \u001b[1m0s\u001b[0m 1ms/step - accuracy: 0.7780 - loss: 0.5907 \n",
      "Epoch 59/71\n",
      "\u001b[1m25/25\u001b[0m \u001b[32m━━━━━━━━━━━━━━━━━━━━\u001b[0m\u001b[37m\u001b[0m \u001b[1m0s\u001b[0m 1ms/step - accuracy: 0.7803 - loss: 0.5810 \n",
      "Epoch 60/71\n",
      "\u001b[1m25/25\u001b[0m \u001b[32m━━━━━━━━━━━━━━━━━━━━\u001b[0m\u001b[37m\u001b[0m \u001b[1m0s\u001b[0m 1ms/step - accuracy: 0.8177 - loss: 0.5443 \n",
      "Epoch 61/71\n",
      "\u001b[1m25/25\u001b[0m \u001b[32m━━━━━━━━━━━━━━━━━━━━\u001b[0m\u001b[37m\u001b[0m \u001b[1m0s\u001b[0m 1ms/step - accuracy: 0.8058 - loss: 0.5475 \n",
      "Epoch 62/71\n",
      "\u001b[1m25/25\u001b[0m \u001b[32m━━━━━━━━━━━━━━━━━━━━\u001b[0m\u001b[37m\u001b[0m \u001b[1m0s\u001b[0m 1ms/step - accuracy: 0.8270 - loss: 0.5170 \n",
      "Epoch 63/71\n",
      "\u001b[1m25/25\u001b[0m \u001b[32m━━━━━━━━━━━━━━━━━━━━\u001b[0m\u001b[37m\u001b[0m \u001b[1m0s\u001b[0m 1ms/step - accuracy: 0.8250 - loss: 0.5060 \n",
      "Epoch 64/71\n",
      "\u001b[1m25/25\u001b[0m \u001b[32m━━━━━━━━━━━━━━━━━━━━\u001b[0m\u001b[37m\u001b[0m \u001b[1m0s\u001b[0m 1ms/step - accuracy: 0.7928 - loss: 0.5241 \n",
      "Epoch 65/71\n",
      "\u001b[1m25/25\u001b[0m \u001b[32m━━━━━━━━━━━━━━━━━━━━\u001b[0m\u001b[37m\u001b[0m \u001b[1m0s\u001b[0m 1ms/step - accuracy: 0.8193 - loss: 0.5176 \n",
      "Epoch 66/71\n",
      "\u001b[1m25/25\u001b[0m \u001b[32m━━━━━━━━━━━━━━━━━━━━\u001b[0m\u001b[37m\u001b[0m \u001b[1m0s\u001b[0m 1ms/step - accuracy: 0.7957 - loss: 0.5355 \n",
      "Epoch 67/71\n",
      "\u001b[1m25/25\u001b[0m \u001b[32m━━━━━━━━━━━━━━━━━━━━\u001b[0m\u001b[37m\u001b[0m \u001b[1m0s\u001b[0m 1ms/step - accuracy: 0.8004 - loss: 0.5189 \n",
      "Epoch 68/71\n",
      "\u001b[1m25/25\u001b[0m \u001b[32m━━━━━━━━━━━━━━━━━━━━\u001b[0m\u001b[37m\u001b[0m \u001b[1m0s\u001b[0m 1ms/step - accuracy: 0.8142 - loss: 0.5103 \n",
      "Epoch 69/71\n",
      "\u001b[1m25/25\u001b[0m \u001b[32m━━━━━━━━━━━━━━━━━━━━\u001b[0m\u001b[37m\u001b[0m \u001b[1m0s\u001b[0m 1ms/step - accuracy: 0.8389 - loss: 0.4926 \n",
      "Epoch 70/71\n",
      "\u001b[1m25/25\u001b[0m \u001b[32m━━━━━━━━━━━━━━━━━━━━\u001b[0m\u001b[37m\u001b[0m \u001b[1m0s\u001b[0m 1ms/step - accuracy: 0.8560 - loss: 0.4391 \n",
      "Epoch 71/71\n",
      "\u001b[1m25/25\u001b[0m \u001b[32m━━━━━━━━━━━━━━━━━━━━\u001b[0m\u001b[37m\u001b[0m \u001b[1m0s\u001b[0m 1ms/step - accuracy: 0.8478 - loss: 0.4570 \n",
      "Final Model Accuracy: 0.25\n"
     ]
    }
   ],
   "source": [
    "file_parameter:dict=pickle.load( open( \"save.p\", \"rb\" ) )\n",
    "\n",
    "def create_model_parameter()->Model:\n",
    "    # Belirli hiperparametre seti\n",
    "    num_layers =  file_parameter[\"num_layers\"]\n",
    "    num_units =  file_parameter[\"num_units\"]\n",
    "\n",
    "    # Modeli oluştur\n",
    "    model_input = Input(shape=(10,))\n",
    "    x = model_input\n",
    "    for _ in range(num_layers):\n",
    "        x = Dense(num_units, activation='relu')(x)\n",
    "    model_output = Dense(3, activation='softmax')(x)\n",
    "\n",
    "    model = Model(inputs=model_input, outputs=model_output)\n",
    "    model.compile(optimizer='adam', loss='sparse_categorical_crossentropy', metrics=['accuracy'])\n",
    "\n",
    "    return model\n",
    "\n",
    "# Modeli oluştur\n",
    "custom_model:Model = create_model_parameter()\n",
    "\n",
    "# Modeli eğit\n",
    "custom_model.fit(train_data, train_labels, epochs=file_parameter[\"epochs\"], verbose=1)\n",
    "\n",
    "# Modelin başarımını kontrol et\n",
    "final_accuracy = custom_model.evaluate(test_data, test_labels, verbose=0)[1]\n",
    "print(f'Final Model Accuracy: {final_accuracy}')\n"
   ]
  }
 ],
 "metadata": {
  "colab": {
   "provenance": []
  },
  "kaggle": {
   "accelerator": "none",
   "dataSources": [],
   "dockerImageVersionId": 30664,
   "isGpuEnabled": false,
   "isInternetEnabled": false,
   "language": "python",
   "sourceType": "notebook"
  },
  "kernelspec": {
   "display_name": "Python 3",
   "language": "python",
   "name": "python3"
  },
  "language_info": {
   "codemirror_mode": {
    "name": "ipython",
    "version": 3
   },
   "file_extension": ".py",
   "mimetype": "text/x-python",
   "name": "python",
   "nbconvert_exporter": "python",
   "pygments_lexer": "ipython3",
   "version": "3.10.13"
  },
  "papermill": {
   "default_parameters": {},
   "duration": 908.178401,
   "end_time": "2024-03-02T20:30:41.984904",
   "environment_variables": {},
   "exception": null,
   "input_path": "__notebook__.ipynb",
   "output_path": "__notebook__.ipynb",
   "parameters": {},
   "start_time": "2024-03-02T20:15:33.806503",
   "version": "2.5.0"
  }
 },
 "nbformat": 4,
 "nbformat_minor": 5
}
